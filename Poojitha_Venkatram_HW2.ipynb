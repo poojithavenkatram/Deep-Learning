{
  "nbformat": 4,
  "nbformat_minor": 0,
  "metadata": {
    "colab": {
      "provenance": [],
      "gpuType": "T4"
    },
    "kernelspec": {
      "name": "python3",
      "display_name": "Python 3"
    },
    "language_info": {
      "name": "python"
    },
    "accelerator": "GPU"
  },
  "cells": [
    {
      "cell_type": "markdown",
      "source": [
        "#### DATA 255 Homework-2\n",
        "\n",
        "#### Poojitha Venkatram\n",
        "\n",
        "#### Github Link- https://github.com/poojithavenkatram/Deep-Learning"
      ],
      "metadata": {
        "id": "5Dn8xb9HKIGb"
      }
    },
    {
      "cell_type": "code",
      "source": [
        "import torch\n",
        "import torch.nn as nn\n",
        "import torch.optim as optim\n",
        "import torchvision\n",
        "import torchvision.transforms as transforms\n",
        "from torch.utils.data import DataLoader\n",
        "from torchvision import datasets\n",
        "from torchvision.transforms import ToTensor\n",
        "\n",
        "# Defining the transformation\n",
        "transform = ToTensor()\n",
        "\n",
        "# Defining the QMNIST datasets\n",
        "qmnist_trainset = datasets.QMNIST(root='data', train=True, download=True, transform=transform)\n",
        "qmnist_testset = datasets.QMNIST(root='data', train=False, download=True, transform=transform)\n",
        "\n",
        "\n",
        "print(len(qmnist_trainset))  # Number of samples in the QMNIST training set\n",
        "print(len(qmnist_testset))   # Number of samples in the QMNIST test set"
      ],
      "metadata": {
        "colab": {
          "base_uri": "https://localhost:8080/"
        },
        "id": "n8iEXdd5Khvg",
        "outputId": "6dd1049e-92c6-4c36-8e8c-be5a0ca6a92d"
      },
      "execution_count": 11,
      "outputs": [
        {
          "output_type": "stream",
          "name": "stdout",
          "text": [
            "Downloading https://raw.githubusercontent.com/facebookresearch/qmnist/master/qmnist-train-images-idx3-ubyte.gz to data/QMNIST/raw/qmnist-train-images-idx3-ubyte.gz\n"
          ]
        },
        {
          "output_type": "stream",
          "name": "stderr",
          "text": [
            "100%|██████████| 9704059/9704059 [00:00<00:00, 139118069.11it/s]"
          ]
        },
        {
          "output_type": "stream",
          "name": "stdout",
          "text": [
            "Extracting data/QMNIST/raw/qmnist-train-images-idx3-ubyte.gz to data/QMNIST/raw\n"
          ]
        },
        {
          "output_type": "stream",
          "name": "stderr",
          "text": [
            "\n"
          ]
        },
        {
          "output_type": "stream",
          "name": "stdout",
          "text": [
            "Downloading https://raw.githubusercontent.com/facebookresearch/qmnist/master/qmnist-train-labels-idx2-int.gz to data/QMNIST/raw/qmnist-train-labels-idx2-int.gz\n"
          ]
        },
        {
          "output_type": "stream",
          "name": "stderr",
          "text": [
            "100%|██████████| 463024/463024 [00:00<00:00, 20509915.78it/s]"
          ]
        },
        {
          "output_type": "stream",
          "name": "stdout",
          "text": [
            "Extracting data/QMNIST/raw/qmnist-train-labels-idx2-int.gz to data/QMNIST/raw\n"
          ]
        },
        {
          "output_type": "stream",
          "name": "stderr",
          "text": [
            "\n"
          ]
        },
        {
          "output_type": "stream",
          "name": "stdout",
          "text": [
            "Downloading https://raw.githubusercontent.com/facebookresearch/qmnist/master/qmnist-test-images-idx3-ubyte.gz to data/QMNIST/raw/qmnist-test-images-idx3-ubyte.gz\n"
          ]
        },
        {
          "output_type": "stream",
          "name": "stderr",
          "text": [
            "100%|██████████| 9742279/9742279 [00:00<00:00, 102259248.23it/s]"
          ]
        },
        {
          "output_type": "stream",
          "name": "stdout",
          "text": [
            "Extracting data/QMNIST/raw/qmnist-test-images-idx3-ubyte.gz to data/QMNIST/raw\n"
          ]
        },
        {
          "output_type": "stream",
          "name": "stderr",
          "text": [
            "\n"
          ]
        },
        {
          "output_type": "stream",
          "name": "stdout",
          "text": [
            "Downloading https://raw.githubusercontent.com/facebookresearch/qmnist/master/qmnist-test-labels-idx2-int.gz to data/QMNIST/raw/qmnist-test-labels-idx2-int.gz\n"
          ]
        },
        {
          "output_type": "stream",
          "name": "stderr",
          "text": [
            "100%|██████████| 526800/526800 [00:00<00:00, 19398094.46it/s]"
          ]
        },
        {
          "output_type": "stream",
          "name": "stdout",
          "text": [
            "Extracting data/QMNIST/raw/qmnist-test-labels-idx2-int.gz to data/QMNIST/raw\n",
            "60000\n",
            "60000\n"
          ]
        },
        {
          "output_type": "stream",
          "name": "stderr",
          "text": [
            "\n"
          ]
        }
      ]
    },
    {
      "cell_type": "code",
      "source": [
        "print(qmnist_trainset.data.size())   # Size of the training data\n",
        "print(qmnist_trainset.targets.size())   # Size of the training labels\n",
        "\n",
        "print(qmnist_testset.data.size())    # Size of the test data\n",
        "print(qmnist_testset.targets.size())    # Size of the test labels"
      ],
      "metadata": {
        "colab": {
          "base_uri": "https://localhost:8080/"
        },
        "id": "5H11MrBnODIN",
        "outputId": "5205681b-149c-4d82-fa99-a9b796a3cdc8"
      },
      "execution_count": 12,
      "outputs": [
        {
          "output_type": "stream",
          "name": "stdout",
          "text": [
            "torch.Size([60000, 28, 28])\n",
            "torch.Size([60000, 8])\n",
            "torch.Size([60000, 28, 28])\n",
            "torch.Size([60000, 8])\n"
          ]
        }
      ]
    },
    {
      "cell_type": "markdown",
      "source": [
        "#### Visualization of the QMNIST Dataset"
      ],
      "metadata": {
        "id": "P8kSDzEI97Ex"
      }
    },
    {
      "cell_type": "code",
      "source": [
        "# Define a function to visualize QMNIST samples\n",
        "def visualize_qmnist_samples(qmnist_dataset, cols=5, rows=5):\n",
        "    figure = plt.figure(figsize=(10, 8))\n",
        "\n",
        "    for i in range(1, cols * rows + 1):\n",
        "        sample_idx = torch.randint(len(qmnist_dataset), size=(1,)).item()\n",
        "        img, label = qmnist_dataset[sample_idx]\n",
        "        figure.add_subplot(rows, cols, i)\n",
        "        plt.title(label)\n",
        "        plt.axis(\"off\")\n",
        "        plt.imshow(img.squeeze(), cmap=\"gray\")\n",
        "\n",
        "    plt.show()\n",
        "\n",
        "# Visualize some samples from the QMNIST training set\n",
        "visualize_qmnist_samples(qmnist_trainset)\n",
        "\n",
        "# Visualize some samples from the QMNIST test set\n",
        "visualize_qmnist_samples(qmnist_testset)\n",
        "\n",
        "# Print the number of samples in the QMNIST training and test sets\n",
        "print(len(qmnist_trainset))  # Number of samples in the QMNIST training set\n",
        "print(len(qmnist_testset))   # Number of samples in the QMNIST test set"
      ],
      "metadata": {
        "colab": {
          "base_uri": "https://localhost:8080/",
          "height": 1000
        },
        "id": "B_xvLP5J7jk9",
        "outputId": "feb81a8d-ad5e-42fb-9e57-88426a09402c"
      },
      "execution_count": 19,
      "outputs": [
        {
          "output_type": "display_data",
          "data": {
            "text/plain": [
              "<Figure size 1000x800 with 25 Axes>"
            ],
            "image/png": "[encoded data removed]"
          },
          "metadata": {}
        },
        {
          "output_type": "display_data",
          "data": {
            "text/plain": [
              "<Figure size 1000x800 with 25 Axes>"
            ],
            "image/png": "[encoded data removed]"
          },
          "metadata": {}
        },
        {
          "output_type": "stream",
          "name": "stdout",
          "text": [
            "60000\n",
            "60000\n"
          ]
        }
      ]
    },
    {
      "cell_type": "code",
      "source": [
        "# Create data loaders\n",
        "train_loader = DataLoader(qmnist_trainset, batch_size=64, shuffle=True)\n",
        "test_loader = DataLoader(qmnist_testset, batch_size=64, shuffle=False)"
      ],
      "metadata": {
        "id": "-HzC_SLEOquC"
      },
      "execution_count": 21,
      "outputs": []
    },
    {
      "cell_type": "markdown",
      "source": [
        "#### Define functions to train the model and evaluate results"
      ],
      "metadata": {
        "id": "K_277I1DOyDm"
      }
    },
    {
      "cell_type": "code",
      "source": [
        "import torch\n",
        "import torch.nn as nn\n",
        "\n",
        "class QMNIST(nn.Module):\n",
        "    def __init__(self):\n",
        "        super(QMNIST, self).__init__()\n",
        "        # Defining the first fully connected layer with 128 neurons\n",
        "        self.fc1 = nn.Linear(28 * 28, 128)\n",
        "        # Defining the second fully connected layer with 64 neurons\n",
        "        self.fc2 = nn.Linear(128, 64)\n",
        "        # Defining the output layer with 10 neurons for classification\n",
        "        self.fc3 = nn.Linear(64, 10)\n",
        "\n",
        "    def forward(self, x):\n",
        "        # Flattening the input tensor\n",
        "        x = x.view(-1, 28 * 28)\n",
        "        # Passing through the first fully connected layer and apply ReLU activation\n",
        "        x = torch.relu(self.fc1(x))\n",
        "        # Passing through the second fully connected layer and apply ReLU activation\n",
        "        x = torch.relu(self.fc2(x))\n",
        "        # Passing through the output layer (no activation applied)\n",
        "        x = self.fc3(x)\n",
        "        return x\n",
        "\n",
        "# Initializing the neural network\n",
        "model = QMNIST()"
      ],
      "metadata": {
        "id": "u8JjrHwrOxTa"
      },
      "execution_count": 22,
      "outputs": []
    },
    {
      "cell_type": "markdown",
      "source": [
        "### Training the Model"
      ],
      "metadata": {
        "id": "IrKY7Om8QlJ4"
      }
    },
    {
      "cell_type": "code",
      "source": [
        "# Defining the loss function and optimizer\n",
        "criterion = nn.CrossEntropyLoss()\n",
        "optimizer = optim.Adam(model.parameters(), lr=0.001)\n",
        "\n",
        "# Training the neural network\n",
        "num_epochs = 5\n",
        "for epoch in range(num_epochs):\n",
        "    model.train()\n",
        "    running_loss = 0.0\n",
        "    for i, data in enumerate(train_loader, 0):\n",
        "        inputs, labels = data\n",
        "        optimizer.zero_grad()\n",
        "        outputs = model(inputs)\n",
        "        loss = criterion(outputs, labels)\n",
        "        loss.backward()\n",
        "        optimizer.step()\n",
        "        running_loss += loss.item()\n",
        "        if i % 100 == 99:  # print every 100 mini-batches\n",
        "            print(f'Epoch {epoch + 1}, Batch {i + 1}, Loss: {running_loss / 100}')\n",
        "            running_loss = 0.0\n",
        "\n",
        "print('Finished Training')"
      ],
      "metadata": {
        "colab": {
          "base_uri": "https://localhost:8080/"
        },
        "id": "I2lHj2_cQkOF",
        "outputId": "17c31aa7-87aa-465f-cc81-620125336152"
      },
      "execution_count": 23,
      "outputs": [
        {
          "output_type": "stream",
          "name": "stdout",
          "text": [
            "Epoch 1, Batch 100, Loss: 1.0653942149877549\n",
            "Epoch 1, Batch 200, Loss: 0.37817932561039924\n",
            "Epoch 1, Batch 300, Loss: 0.3206198388338089\n",
            "Epoch 1, Batch 400, Loss: 0.2668698687851429\n",
            "Epoch 1, Batch 500, Loss: 0.2430230848491192\n",
            "Epoch 1, Batch 600, Loss: 0.22166193768382073\n",
            "Epoch 1, Batch 700, Loss: 0.20151660315692424\n",
            "Epoch 1, Batch 800, Loss: 0.19856997437775134\n",
            "Epoch 1, Batch 900, Loss: 0.1708341885358095\n",
            "Epoch 2, Batch 100, Loss: 0.14603336341679096\n",
            "Epoch 2, Batch 200, Loss: 0.13664805382490158\n",
            "Epoch 2, Batch 300, Loss: 0.13912542581558227\n",
            "Epoch 2, Batch 400, Loss: 0.13539375618100166\n",
            "Epoch 2, Batch 500, Loss: 0.12997452503070236\n",
            "Epoch 2, Batch 600, Loss: 0.11638726202771067\n",
            "Epoch 2, Batch 700, Loss: 0.13528299145400524\n",
            "Epoch 2, Batch 800, Loss: 0.10647636683657766\n",
            "Epoch 2, Batch 900, Loss: 0.11934579918161034\n",
            "Epoch 3, Batch 100, Loss: 0.09330307630822063\n",
            "Epoch 3, Batch 200, Loss: 0.09256247015669943\n",
            "Epoch 3, Batch 300, Loss: 0.09862165121361613\n",
            "Epoch 3, Batch 400, Loss: 0.09147022566758096\n",
            "Epoch 3, Batch 500, Loss: 0.09177093691192567\n",
            "Epoch 3, Batch 600, Loss: 0.08006545812822878\n",
            "Epoch 3, Batch 700, Loss: 0.09655212085694075\n",
            "Epoch 3, Batch 800, Loss: 0.08092249345965684\n",
            "Epoch 3, Batch 900, Loss: 0.07545181501656771\n",
            "Epoch 4, Batch 100, Loss: 0.07013115106849\n",
            "Epoch 4, Batch 200, Loss: 0.06392175185494126\n",
            "Epoch 4, Batch 300, Loss: 0.06714982291217893\n",
            "Epoch 4, Batch 400, Loss: 0.07145524321123958\n",
            "Epoch 4, Batch 500, Loss: 0.07437080612406134\n",
            "Epoch 4, Batch 600, Loss: 0.07042865929659456\n",
            "Epoch 4, Batch 700, Loss: 0.0631198167707771\n",
            "Epoch 4, Batch 800, Loss: 0.06785787810571492\n",
            "Epoch 4, Batch 900, Loss: 0.06950291787739843\n",
            "Epoch 5, Batch 100, Loss: 0.05052120679989457\n",
            "Epoch 5, Batch 200, Loss: 0.043783587862271815\n",
            "Epoch 5, Batch 300, Loss: 0.051678385378327224\n",
            "Epoch 5, Batch 400, Loss: 0.04933981674257666\n",
            "Epoch 5, Batch 500, Loss: 0.06019769289763644\n",
            "Epoch 5, Batch 600, Loss: 0.04818437184439972\n",
            "Epoch 5, Batch 700, Loss: 0.051117500350810585\n",
            "Epoch 5, Batch 800, Loss: 0.058623622721061114\n",
            "Epoch 5, Batch 900, Loss: 0.044976639398373666\n",
            "Finished Training\n"
          ]
        }
      ]
    },
    {
      "cell_type": "markdown",
      "source": [
        "#### Evaluate the model prediction accuracy on the train and test datasets"
      ],
      "metadata": {
        "id": "4Ead4uvOS5no"
      }
    },
    {
      "cell_type": "code",
      "source": [
        "def evaluate(model, dataloader):\n",
        "    model.eval()\n",
        "    correct = 0\n",
        "    total = 0\n",
        "    with torch.no_grad():\n",
        "        for data in dataloader:\n",
        "            images, labels = data\n",
        "            outputs = model(images)\n",
        "            _, predicted = torch.max(outputs.data, 1)\n",
        "            total += labels.size(0)\n",
        "            correct += (predicted == labels).sum().item()\n",
        "    accuracy = correct / total\n",
        "    return accuracy\n",
        "\n",
        "# Evaluate on train dataset\n",
        "train_accuracy = evaluate(model, train_loader)\n",
        "print('Accuracy on train set: {:.2f}%'.format(train_accuracy * 100))\n",
        "\n",
        "# Evaluate on test dataset\n",
        "test_accuracy = evaluate(model, test_loader)\n",
        "print('Accuracy on test set: {:.2f}%'.format(test_accuracy * 100))"
      ],
      "metadata": {
        "colab": {
          "base_uri": "https://localhost:8080/"
        },
        "id": "cU1tqg7uYyVx",
        "outputId": "daa7ec08-ba41-4186-e74e-f1534b96aad4"
      },
      "execution_count": 24,
      "outputs": [
        {
          "output_type": "stream",
          "name": "stdout",
          "text": [
            "Accuracy on train set: 98.72%\n",
            "Accuracy on test set: 97.20%\n"
          ]
        }
      ]
    },
    {
      "cell_type": "markdown",
      "source": [
        "### Adding another dense layer of 128 nodes to the architecture will likely increase the model's capacity to capture more complex patterns in the data. This additional layer would introduce more parameters and non-linearity to the model, thus enabling it to learn more intricate features from the input images."
      ],
      "metadata": {
        "id": "33Sl03ABbn7L"
      }
    },
    {
      "cell_type": "code",
      "source": [
        "import torch\n",
        "import torch.nn as nn\n",
        "\n",
        "class QMNIST(nn.Module):\n",
        "    def __init__(self):\n",
        "        super(QMNIST, self).__init__()\n",
        "        # Define the first fully connected layer with 128 neurons\n",
        "        self.fc1 = nn.Linear(28 * 28, 128)\n",
        "        # Define the second fully connected layer with 128 neurons\n",
        "        self.fc2 = nn.Linear(128, 128)  # New layer\n",
        "        # Define the third fully connected layer with 64 neurons\n",
        "        self.fc3 = nn.Linear(128, 64)\n",
        "        # Define the output layer with 10 neurons for classification\n",
        "        self.fc4 = nn.Linear(64, 10)\n",
        "\n",
        "    def forward(self, x):\n",
        "        # Flatten the input tensor\n",
        "        x = x.view(-1, 28 * 28)\n",
        "        # Pass through the first fully connected layer and apply ReLU activation\n",
        "        x = torch.relu(self.fc1(x))\n",
        "        # Pass through the second fully connected layer and apply ReLU activation\n",
        "        x = torch.relu(self.fc2(x))\n",
        "        # Pass through the third fully connected layer and apply ReLU activation\n",
        "        x = torch.relu(self.fc3(x))\n",
        "        # Pass through the output layer (no activation applied)\n",
        "        x = self.fc4(x)\n",
        "        return x\n",
        "\n",
        "# Initialize the neural network\n",
        "model = QMNIST()"
      ],
      "metadata": {
        "id": "ot7alEWLbYtk"
      },
      "execution_count": 25,
      "outputs": []
    },
    {
      "cell_type": "code",
      "source": [
        "# Defining the loss function and optimizer\n",
        "criterion = nn.CrossEntropyLoss()\n",
        "optimizer = optim.Adam(model.parameters(), lr=0.001)\n",
        "\n",
        "# Training the neural network\n",
        "num_epochs = 5\n",
        "for epoch in range(num_epochs):\n",
        "    model.train()\n",
        "    running_loss = 0.0\n",
        "    for i, data in enumerate(train_loader, 0):\n",
        "        inputs, labels = data\n",
        "        optimizer.zero_grad()\n",
        "        outputs = model(inputs)\n",
        "        loss = criterion(outputs, labels)\n",
        "        loss.backward()\n",
        "        optimizer.step()\n",
        "        running_loss += loss.item()\n",
        "        if i % 100 == 99:  # print every 100 mini-batches\n",
        "            print(f'Epoch {epoch + 1}, Batch {i + 1}, Loss: {running_loss / 100}')\n",
        "            running_loss = 0.0\n",
        "\n",
        "print('Finished Training')\n",
        "\n",
        "# Evaluating the model\n",
        "model.eval()\n",
        "predictions = []\n",
        "correct = 0\n",
        "total = 0\n",
        "with torch.no_grad():\n",
        "    for data in test_loader:\n",
        "        images, labels = data\n",
        "        outputs = model(images)\n",
        "        _, predicted = torch.max(outputs.data, 1)\n",
        "        predictions.extend(predicted.numpy())  # Store predictions\n",
        "        total += labels.size(0)\n",
        "        correct += (predicted == labels).sum().item()\n",
        "\n",
        "print(f'Accuracy on test set: { correct / total}%')"
      ],
      "metadata": {
        "colab": {
          "base_uri": "https://localhost:8080/"
        },
        "id": "M28wn4UYB3Ph",
        "outputId": "858c8205-523e-4728-dfb1-f69690af90fe"
      },
      "execution_count": 26,
      "outputs": [
        {
          "output_type": "stream",
          "name": "stdout",
          "text": [
            "Epoch 1, Batch 100, Loss: 1.0378530053794384\n",
            "Epoch 1, Batch 200, Loss: 0.3961340506374836\n",
            "Epoch 1, Batch 300, Loss: 0.32059456676244735\n",
            "Epoch 1, Batch 400, Loss: 0.2763810934871435\n",
            "Epoch 1, Batch 500, Loss: 0.24481362838298082\n",
            "Epoch 1, Batch 600, Loss: 0.2319924609363079\n",
            "Epoch 1, Batch 700, Loss: 0.21508793901652098\n",
            "Epoch 1, Batch 800, Loss: 0.20795554583892226\n",
            "Epoch 1, Batch 900, Loss: 0.19743252981454135\n",
            "Epoch 2, Batch 100, Loss: 0.1514524849690497\n",
            "Epoch 2, Batch 200, Loss: 0.1417884413152933\n",
            "Epoch 2, Batch 300, Loss: 0.1454049619846046\n",
            "Epoch 2, Batch 400, Loss: 0.1317312060855329\n",
            "Epoch 2, Batch 500, Loss: 0.1295332928560674\n",
            "Epoch 2, Batch 600, Loss: 0.127027928866446\n",
            "Epoch 2, Batch 700, Loss: 0.1258237861096859\n",
            "Epoch 2, Batch 800, Loss: 0.12815091416239738\n",
            "Epoch 2, Batch 900, Loss: 0.10490663683973253\n",
            "Epoch 3, Batch 100, Loss: 0.10114431772381068\n",
            "Epoch 3, Batch 200, Loss: 0.08602338496595621\n",
            "Epoch 3, Batch 300, Loss: 0.08575797339435667\n",
            "Epoch 3, Batch 400, Loss: 0.0939554100856185\n",
            "Epoch 3, Batch 500, Loss: 0.09983727385289967\n",
            "Epoch 3, Batch 600, Loss: 0.08738625079393386\n",
            "Epoch 3, Batch 700, Loss: 0.08565190500579774\n",
            "Epoch 3, Batch 800, Loss: 0.08864382844883949\n",
            "Epoch 3, Batch 900, Loss: 0.0825580397201702\n",
            "Epoch 4, Batch 100, Loss: 0.07092022476252169\n",
            "Epoch 4, Batch 200, Loss: 0.06752995391841977\n",
            "Epoch 4, Batch 300, Loss: 0.06697866175323725\n",
            "Epoch 4, Batch 400, Loss: 0.0557463747356087\n",
            "Epoch 4, Batch 500, Loss: 0.06721447175368667\n",
            "Epoch 4, Batch 600, Loss: 0.07650223973672837\n",
            "Epoch 4, Batch 700, Loss: 0.06874929497251286\n",
            "Epoch 4, Batch 800, Loss: 0.0642848778120242\n",
            "Epoch 4, Batch 900, Loss: 0.07060716741718352\n",
            "Epoch 5, Batch 100, Loss: 0.05029945291113108\n",
            "Epoch 5, Batch 200, Loss: 0.04892139269039035\n",
            "Epoch 5, Batch 300, Loss: 0.057453292983118444\n",
            "Epoch 5, Batch 400, Loss: 0.051247814921662214\n",
            "Epoch 5, Batch 500, Loss: 0.05669194785412401\n",
            "Epoch 5, Batch 600, Loss: 0.056995158744975925\n",
            "Epoch 5, Batch 700, Loss: 0.05778421479742974\n",
            "Epoch 5, Batch 800, Loss: 0.0601855784188956\n",
            "Epoch 5, Batch 900, Loss: 0.057743839494651186\n",
            "Finished Training\n",
            "Accuracy on test set: 0.9725666666666667%\n"
          ]
        }
      ]
    },
    {
      "cell_type": "markdown",
      "source": [
        "### The results of the modified model are as follows,\n",
        "\n",
        "\n",
        "*   Adding another dense layer of 128 nodes enhanced the model's capacity to learn complex patterns and representations from the data.\n",
        "*   The increase in accuracy from 97.20% to 97.26% suggests that the additional layer contributed positively to the model's performance.\n",
        "*   This improvement implies better feature extraction, reduced overfitting, and dataset-specific benefits, leading to a slight enhancement in accuracy on the test set."
      ],
      "metadata": {
        "id": "B3qccYN4eNe2"
      }
    },
    {
      "cell_type": "markdown",
      "source": [
        "### Experimenting with different Hyperparameters"
      ],
      "metadata": {
        "id": "BIlDFMLM5l38"
      }
    },
    {
      "cell_type": "code",
      "source": [
        "import torch\n",
        "import torch.nn as nn\n",
        "import torch.optim as optim\n",
        "from torchvision import datasets, transforms\n",
        "from torch.utils.data import DataLoader\n",
        "\n",
        "# Defining the neural network architecture\n",
        "class QMNIST(nn.Module):\n",
        "    def __init__(self, dropout_rate=0.0, activation_fn=torch.relu):\n",
        "        super(QMNIST, self).__init__()\n",
        "        # Define the first fully connected layer with 128 neurons\n",
        "        self.fc1 = nn.Linear(28 * 28, 128)\n",
        "        # Define the second fully connected layer with 128 neurons\n",
        "        self.fc2 = nn.Linear(128, 128)  # New layer\n",
        "        # Define the third fully connected layer with 64 neurons\n",
        "        self.fc3 = nn.Linear(128, 64)\n",
        "        # Define the output layer with 10 neurons for classification\n",
        "        self.fc4 = nn.Linear(64, 10)\n",
        "        # Define dropout layer\n",
        "        self.dropout = nn.Dropout(dropout_rate)\n",
        "        # Define activation function\n",
        "        self.activation_fn = activation_fn\n",
        "\n",
        "    def forward(self, x):\n",
        "        # Flatten the input tensor\n",
        "        x = x.view(-1, 28 * 28)\n",
        "        # Pass through the first fully connected layer and apply activation and dropout\n",
        "        x = self.activation_fn(self.fc1(x))\n",
        "        x = self.dropout(x)\n",
        "        # Pass through the second fully connected layer and apply activation and dropout\n",
        "        x = self.activation_fn(self.fc2(x))\n",
        "        x = self.dropout(x)\n",
        "        # Pass through the third fully connected layer and apply activation and dropout\n",
        "        x = self.activation_fn(self.fc3(x))\n",
        "        x = self.dropout(x)\n",
        "        # Pass through the output layer (no activation applied)\n",
        "        x = self.fc4(x)\n",
        "        return x\n",
        "\n",
        "# Defining the function to train the model\n",
        "def train(model, train_loader, optimizer, criterion):\n",
        "    model.train()\n",
        "    running_loss = 0.0\n",
        "    for inputs, labels in train_loader:\n",
        "        optimizer.zero_grad()\n",
        "        outputs = model(inputs)\n",
        "        loss = criterion(outputs, labels)\n",
        "        loss.backward()\n",
        "        optimizer.step()\n",
        "        running_loss += loss.item()\n",
        "    return running_loss / len(train_loader)\n",
        "\n",
        "# Defining function to evaluate the model\n",
        "def evaluate(model, test_loader, criterion):\n",
        "    model.eval()\n",
        "    correct = 0\n",
        "    total = 0\n",
        "    with torch.no_grad():\n",
        "        for inputs, labels in test_loader:\n",
        "            outputs = model(inputs)\n",
        "            _, predicted = torch.max(outputs, 1)\n",
        "            total += labels.size(0)\n",
        "            correct += (predicted == labels).sum().item()\n",
        "    return correct / total\n",
        "\n",
        "# Defining hyperparameters\n",
        "learning_rate = 0.001\n",
        "dropout_rate = 0.2\n",
        "activation_fn = torch.relu\n",
        "\n",
        "# Initializing the model\n",
        "model = QMNIST(dropout_rate=dropout_rate, activation_fn=activation_fn)\n",
        "\n",
        "# Defining the loss function and optimizer\n",
        "criterion = nn.CrossEntropyLoss()\n",
        "optimizer = optim.Adam(model.parameters(), lr=learning_rate)\n",
        "\n",
        "# Training the model\n",
        "num_epochs = 10\n",
        "for epoch in range(num_epochs):\n",
        "    train_loss = train(model, train_loader, optimizer, criterion)\n",
        "    test_accuracy = evaluate(model, test_loader, criterion)\n",
        "    print(f\"Epoch {epoch+1}/{num_epochs}, Train Loss: {train_loss:.4f}, Test Accuracy: {test_accuracy:.4f}\")\n",
        "\n",
        "print('Finished Training')\n",
        "\n",
        "# Printing the model performance\n",
        "print(f\"Test Accuracy: {test_accuracy:.4f}\")"
      ],
      "metadata": {
        "colab": {
          "base_uri": "https://localhost:8080/"
        },
        "id": "wnidEKw4ewfH",
        "outputId": "0b45ea8b-fd4f-459c-d107-f8881f99e307"
      },
      "execution_count": 30,
      "outputs": [
        {
          "output_type": "stream",
          "name": "stdout",
          "text": [
            "Epoch 1/10, Train Loss: 0.4274, Test Accuracy: 0.9465\n",
            "Epoch 2/10, Train Loss: 0.1854, Test Accuracy: 0.9623\n",
            "Epoch 3/10, Train Loss: 0.1409, Test Accuracy: 0.9683\n",
            "Epoch 4/10, Train Loss: 0.1174, Test Accuracy: 0.9711\n",
            "Epoch 5/10, Train Loss: 0.1034, Test Accuracy: 0.9719\n",
            "Epoch 6/10, Train Loss: 0.0902, Test Accuracy: 0.9729\n",
            "Epoch 7/10, Train Loss: 0.0850, Test Accuracy: 0.9758\n",
            "Epoch 8/10, Train Loss: 0.0790, Test Accuracy: 0.9758\n",
            "Epoch 9/10, Train Loss: 0.0712, Test Accuracy: 0.9765\n",
            "Epoch 10/10, Train Loss: 0.0687, Test Accuracy: 0.9769\n",
            "Finished Training\n",
            "Test Accuracy: 0.9769\n"
          ]
        }
      ]
    },
    {
      "cell_type": "markdown",
      "source": [
        "##### The output indicates the performance of the neural network model on the test data after training for 10 epochs with the specified hyperparameters. Here's the breakdown:\n",
        "- The training loss decreases gradually over epochs, indicating that the model is learning and improving its fit to the training data.\n",
        "- The test accuracy increases over epochs, reaching 97.69% after 10 epochs. This indicates that the model is generalizing well to unseen data and performing better with the specified hyperparameters compared to previous epochs.\n",
        "\n",
        "Overall, the change in hyperparameters has led to improvements in the model's performance, as evidenced by the decreasing loss and increasing accuracy on the test dataset."
      ],
      "metadata": {
        "id": "e1Xj6-08HxFc"
      }
    },
    {
      "cell_type": "markdown",
      "source": [
        "### Prediction on Test Set"
      ],
      "metadata": {
        "id": "PYm8_a0_GH3w"
      }
    },
    {
      "cell_type": "code",
      "source": [
        "import matplotlib.pyplot as plt\n",
        "\n",
        "def visualize_image_and_predictions(image, label, predicted_label, predictions, qmnist_testset):\n",
        "\n",
        "    # Display some predictions on test data\n",
        "    fig, axes = plt.subplots(ncols=10, sharex=False,\n",
        "                             sharey=True, figsize=(20, 4))\n",
        "    for i in range(10):\n",
        "        axes[i].set_title(predictions[i])\n",
        "        img, lbl = qmnist_testset[i]\n",
        "        axes[i].imshow(img.squeeze(), cmap='gray')\n",
        "        axes[i].get_xaxis().set_visible(False)\n",
        "        axes[i].get_yaxis().set_visible(False)\n",
        "    plt.show()\n",
        "\n",
        "# Example\n",
        "visualize_image_and_predictions(image_numpy, label.item(), predictions[1], predictions, qmnist_testset)"
      ],
      "metadata": {
        "colab": {
          "base_uri": "https://localhost:8080/",
          "height": 190
        },
        "id": "ezGNmrl5G9nk",
        "outputId": "7fb94a66-47b8-4806-a214-6caaceb8a76b"
      },
      "execution_count": 37,
      "outputs": [
        {
          "output_type": "display_data",
          "data": {
            "text/plain": [
              "<Figure size 2000x400 with 10 Axes>"
            ],
            "image/png": "[encoded data removed]"
          },
          "metadata": {}
        }
      ]
    },
    {
      "cell_type": "markdown",
      "source": [
        "# Thus, the model makes correct predictions on the test data above."
      ],
      "metadata": {
        "id": "HVDyh9M7HqUN"
      }
    }
  ]
}