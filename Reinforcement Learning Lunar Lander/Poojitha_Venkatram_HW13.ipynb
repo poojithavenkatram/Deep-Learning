{
  "nbformat": 4,
  "nbformat_minor": 0,
  "metadata": {
    "colab": {
      "provenance": [],
      "gpuType": "T4"
    },
    "kernelspec": {
      "name": "python3",
      "display_name": "Python 3"
    },
    "language_info": {
      "name": "python"
    },
    "accelerator": "GPU"
  },
  "cells": [
    {
      "cell_type": "markdown",
      "source": [
        "Poojitha Venkatram\n",
        "\n",
        "Assignment-13\n",
        "\n",
        "Deep Reinforcement Learning"
      ],
      "metadata": {
        "id": "jk2xhCEyB4nd"
      }
    },
    {
      "cell_type": "markdown",
      "source": [
        "Installation"
      ],
      "metadata": {
        "id": "-_ECDUJ1E2We"
      }
    },
    {
      "cell_type": "code",
      "execution_count": 1,
      "metadata": {
        "colab": {
          "base_uri": "https://localhost:8080/"
        },
        "id": "SmZaTxgHB4C0",
        "outputId": "5e8052a4-de15-47e2-b63b-72efdc5eb9b8"
      },
      "outputs": [
        {
          "output_type": "stream",
          "name": "stdout",
          "text": [
            "Requirement already satisfied: gym in /usr/local/lib/python3.10/dist-packages (0.26.2)\n",
            "Requirement already satisfied: numpy>=1.18.0 in /usr/local/lib/python3.10/dist-packages (from gym) (1.25.2)\n",
            "Requirement already satisfied: cloudpickle>=1.2.0 in /usr/local/lib/python3.10/dist-packages (from gym) (2.2.1)\n",
            "Requirement already satisfied: gym-notices>=0.0.4 in /usr/local/lib/python3.10/dist-packages (from gym) (0.0.8)\n"
          ]
        }
      ],
      "source": [
        "! pip install gym"
      ]
    },
    {
      "cell_type": "code",
      "source": [
        "! pip install swig"
      ],
      "metadata": {
        "colab": {
          "base_uri": "https://localhost:8080/"
        },
        "id": "lPsPfeK9EBUD",
        "outputId": "9338de90-cd0e-497e-8d4f-ea28d9d0fb35"
      },
      "execution_count": 2,
      "outputs": [
        {
          "output_type": "stream",
          "name": "stdout",
          "text": [
            "Requirement already satisfied: swig in /usr/local/lib/python3.10/dist-packages (4.2.1)\n"
          ]
        }
      ]
    },
    {
      "cell_type": "code",
      "source": [
        "! pip install gym[box2d]"
      ],
      "metadata": {
        "colab": {
          "base_uri": "https://localhost:8080/"
        },
        "id": "HRxPqRXnCFU1",
        "outputId": "d0cb20d1-90f2-4718-e17b-0e4549e7301a"
      },
      "execution_count": 3,
      "outputs": [
        {
          "output_type": "stream",
          "name": "stdout",
          "text": [
            "Requirement already satisfied: gym[box2d] in /usr/local/lib/python3.10/dist-packages (0.26.2)\n",
            "Requirement already satisfied: numpy>=1.18.0 in /usr/local/lib/python3.10/dist-packages (from gym[box2d]) (1.25.2)\n",
            "Requirement already satisfied: cloudpickle>=1.2.0 in /usr/local/lib/python3.10/dist-packages (from gym[box2d]) (2.2.1)\n",
            "Requirement already satisfied: gym-notices>=0.0.4 in /usr/local/lib/python3.10/dist-packages (from gym[box2d]) (0.0.8)\n",
            "Requirement already satisfied: box2d-py==2.3.5 in /usr/local/lib/python3.10/dist-packages (from gym[box2d]) (2.3.5)\n",
            "Requirement already satisfied: pygame==2.1.0 in /usr/local/lib/python3.10/dist-packages (from gym[box2d]) (2.1.0)\n",
            "Requirement already satisfied: swig==4.* in /usr/local/lib/python3.10/dist-packages (from gym[box2d]) (4.2.1)\n"
          ]
        }
      ]
    },
    {
      "cell_type": "code",
      "source": [
        "import gym\n",
        "import torch\n",
        "import torch.nn as nn\n",
        "import torch.optim as optim\n",
        "import torch.nn.functional as F\n",
        "from collections import namedtuple, deque\n",
        "import random\n",
        "import numpy as np\n",
        "import matplotlib.pyplot as plt\n",
        "\n",
        "# Set up the environment\n",
        "env = gym.make('LunarLander-v2')\n",
        "\n",
        "print('State shape: ', env.observation_space.shape)\n",
        "print('Number of actions: ', env.action_space.n)\n",
        "\n",
        "class QNetwork(nn.Module):\n",
        "    \"\"\"Actor (Policy) Model.\"\"\"\n",
        "    def __init__(self, state_size, action_size, seed, fc1_units=64, fc2_units=64):\n",
        "        super(QNetwork, self).__init__()\n",
        "        self.seed = torch.manual_seed(seed)\n",
        "        self.fc1 = nn.Linear(state_size, fc1_units)\n",
        "        self.fc2 = nn.Linear(fc1_units, fc2_units)\n",
        "        self.fc3 = nn.Linear(fc2_units, action_size)\n",
        "\n",
        "    def forward(self, state):\n",
        "        x = F.relu(self.fc1(state))\n",
        "        x = F.relu(self.fc2(x))\n",
        "        return self.fc3(x)\n",
        "\n",
        "# Set up device\n",
        "device = torch.device(\"cuda\" if torch.cuda.is_available() else \"cpu\")\n",
        "\n",
        "BUFFER_SIZE = int(1e5)  # replay buffer size\n",
        "BATCH_SIZE = 64         # minibatch size\n",
        "GAMMA = 0.99            # discount factor\n",
        "TAU = 1e-3              # for soft update of target parameters\n",
        "LR = 5e-4               # learning rate\n",
        "UPDATE_EVERY = 4        # how often to update the network\n",
        "\n",
        "class Agent:\n",
        "    def __init__(self, state_size, action_size, seed):\n",
        "        self.state_size = state_size\n",
        "        self.action_size = action_size\n",
        "        self.seed = random.seed(seed)\n",
        "        self.qnetwork_local = QNetwork(state_size, action_size, seed).to(device)\n",
        "        self.qnetwork_target = QNetwork(state_size, action_size, seed).to(device)\n",
        "        self.optimizer = optim.Adam(self.qnetwork_local.parameters(), lr=LR)\n",
        "        self.memory = ReplayBuffer(action_size, BUFFER_SIZE, BATCH_SIZE, seed)\n",
        "        self.t_step = 0\n",
        "\n",
        "    def step(self, state, action, reward, next_state, done):\n",
        "        if isinstance(state, tuple):\n",
        "            state = state[0]\n",
        "        if isinstance(next_state, tuple):\n",
        "            next_state = next_state[0]\n",
        "        self.memory.add(state, action, reward, next_state, done)\n",
        "        self.t_step = (self.t_step + 1) % UPDATE_EVERY\n",
        "        if self.t_step == 0 and len(self.memory) > BATCH_SIZE:\n",
        "            experiences = self.memory.sample()\n",
        "            self.learn(experiences, GAMMA)\n",
        "\n",
        "    def act(self, state, eps=0.):\n",
        "        if isinstance(state, tuple):\n",
        "            state = state[0]\n",
        "        state = torch.from_numpy(np.array(state)).float().unsqueeze(0).to(device)\n",
        "        self.qnetwork_local.eval()\n",
        "        with torch.no_grad():\n",
        "            action_values = self.qnetwork_local(state)\n",
        "        self.qnetwork_local.train()\n",
        "        if random.random() > eps:\n",
        "            return np.argmax(action_values.cpu().data.numpy())\n",
        "        else:\n",
        "            return random.choice(np.arange(self.action_size))\n",
        "\n",
        "    def learn(self, experiences, gamma):\n",
        "        states, actions, rewards, next_states, dones = experiences\n",
        "        Q_targets_next = self.qnetwork_target(next_states).detach().max(1)[0].unsqueeze(1)\n",
        "        Q_targets = rewards + (gamma * Q_targets_next * (1 - dones))\n",
        "        Q_expected = self.qnetwork_local(states).gather(1, actions)\n",
        "        loss = F.mse_loss(Q_expected, Q_targets)\n",
        "        self.optimizer.zero_grad()\n",
        "        loss.backward()\n",
        "        self.optimizer.step()\n",
        "        self.soft_update(self.qnetwork_local, self.qnetwork_target, TAU)\n",
        "\n",
        "    def soft_update(self, local_model, target_model, tau):\n",
        "        for target_param, local_param in zip(target_model.parameters(), local_model.parameters()):\n",
        "            target_param.data.copy_(tau*local_param.data + (1.0-tau)*target_param.data)\n",
        "\n",
        "class ReplayBuffer:\n",
        "    def __init__(self, action_size, buffer_size, batch_size, seed):\n",
        "        self.action_size = action_size\n",
        "        self.memory = deque(maxlen=buffer_size)\n",
        "        self.batch_size = batch_size\n",
        "        self.experience = namedtuple(\"Experience\", field_names=[\"state\", \"action\", \"reward\", \"next_state\", \"done\"])\n",
        "        self.seed = random.seed(seed)\n",
        "\n",
        "    def add(self, state, action, reward, next_state, done):\n",
        "        state = np.array(state)\n",
        "        next_state = np.array(next_state)\n",
        "        e = self.experience(state, action, reward, next_state, done)\n",
        "        self.memory.append(e)\n",
        "\n",
        "    def sample(self):\n",
        "        experiences = random.sample(self.memory, k=self.batch_size)\n",
        "        states = torch.from_numpy(np.vstack([e.state for e in experiences if e is not None])).float().to(device)\n",
        "        actions = torch.from_numpy(np.vstack([e.action for e in experiences if e is not None])).long().to(device)\n",
        "        rewards = torch.from_numpy(np.vstack([e.reward for e in experiences if e is not None])).float().to(device)\n",
        "        next_states = torch.from_numpy(np.vstack([e.next_state for e in experiences if e is not None])).float().to(device)\n",
        "        dones = torch.from_numpy(np.vstack([e.done for e in experiences if e is not None]).astype(np.uint8)).float().to(device)\n",
        "        return (states, actions, rewards, next_states, dones)\n",
        "\n",
        "    def __len__(self):\n",
        "        return len(self.memory)\n",
        "\n",
        "agent = Agent(env.observation_space.shape[0], env.action_space.n, 0)\n",
        "\n",
        "def dqn(n_episodes=2000, max_t=1000, eps_start=1.0, eps_end=0.01, eps_decay=0.995):\n",
        "    scores = []                        # list containing scores from each episode\n",
        "    scores_window = deque(maxlen=100)  # last 100 scores\n",
        "    eps = eps_start                    # initialize epsilon\n",
        "    for i_episode in range(1, n_episodes + 1):\n",
        "        state = env.reset()\n",
        "        score = 0\n",
        "        for t in range(max_t):\n",
        "            action = agent.act(state, eps)\n",
        "            result = env.step(action)\n",
        "            next_state, reward, done = result[:3]  # Unpacking the first three values\n",
        "            agent.step(state, action, reward, next_state, done)\n",
        "            state = next_state\n",
        "            score += reward\n",
        "            if done:\n",
        "                break\n",
        "        scores_window.append(score)       # save most recent score\n",
        "        scores.append(score)              # save most recent score\n",
        "        eps = max(eps_end, eps_decay * eps) # decrease epsilon\n",
        "        print(f'\\rEpisode {i_episode}\\tAverage Score: {np.mean(scores_window):.2f}', end=\"\")\n",
        "        if i_episode % 100 == 0:\n",
        "            print(f'\\rEpisode {i_episode}\\tAverage Score: {np.mean(scores_window):.2f}')\n",
        "        if np.mean(scores_window) >= 200.0:\n",
        "            print(f'\\nEnvironment solved in {i_episode - 100} episodes!\\tAverage Score: {np.mean(scores_window):.2f}')\n",
        "            torch.save(agent.qnetwork_local.state_dict(), 'checkpoint_lunar_lander.pth')\n",
        "            break\n",
        "    return scores\n",
        "\n",
        "scores = dqn()\n",
        "\n",
        "# Plot the scores\n",
        "fig = plt.figure()\n",
        "ax = fig.add_subplot(111)\n",
        "plt.plot(np.arange(len(scores)), scores)\n",
        "plt.ylabel('Score')\n",
        "plt.xlabel('Episode #')\n",
        "plt.show()"
      ],
      "metadata": {
        "colab": {
          "base_uri": "https://localhost:8080/",
          "height": 637
        },
        "id": "Q3-y2qAbH17M",
        "outputId": "130b49d4-1f13-48cf-e0cf-e6936a363468"
      },
      "execution_count": 20,
      "outputs": [
        {
          "output_type": "stream",
          "name": "stdout",
          "text": [
            "State shape:  (8,)\n",
            "Number of actions:  4\n",
            "Episode 100\tAverage Score: -169.93\n",
            "Episode 200\tAverage Score: -109.53\n",
            "Episode 300\tAverage Score: -43.47\n",
            "Episode 400\tAverage Score: 38.57\n",
            "Episode 500\tAverage Score: 75.09\n",
            "Episode 600\tAverage Score: 92.01\n",
            "Episode 691\tAverage Score: 200.35\n",
            "Environment solved in 591 episodes!\tAverage Score: 200.35\n"
          ]
        },
        {
          "output_type": "display_data",
          "data": {
            "text/plain": [
              "<Figure size 640x480 with 1 Axes>"
            ],
            "image/png": "[encoded data removed]"
          },
          "metadata": {}
        }
      ]
    },
    {
      "cell_type": "markdown",
      "source": [
        "The graph shows the progression of scores throughout the training episodes. The scores begin with high negative values, indicating that the agent often failed the landing or incurred penalties early in the training.\n",
        "As the episodes progress, the score gradually improves, showing fewer negative outcomes and more successful landings. By around 500 episodes, the scores are consistently positive, indicating successful landings with minimal penalties.\n",
        "The training reaches an average score of above 200 by episode 606, which suggests the environment is \"solved\" according to typical benchmarks set for the Lunar Lander environment.\n"
      ],
      "metadata": {
        "id": "kXmQpA6_Shfl"
      }
    },
    {
      "cell_type": "markdown",
      "source": [
        "The parameters used to produce the training results are as follows,\n",
        "\n"
      ],
      "metadata": {
        "id": "UMVHP8UCTVa0"
      }
    },
    {
      "cell_type": "markdown",
      "source": [
        "Neural Network Architecture\n",
        "- Layers and Neurons: Two hidden layers with 64 neurons each, balancing complexity and efficiency to effectively learn the action-value function without overfitting.\n",
        "- Activation Function: ReLU, facilitating non-linear learning to capture complex patterns in the state inputs.\n",
        "\n",
        "Learning Parameters\n",
        "- Learning Rate (LR): Set at 0.0005 to adjust neural network weights cautiously, ensuring smooth convergence.\n",
        "- Discount Factor (GAMMA): Set at 0.99, prioritizing long-term rewards to encourage forward-thinking strategies.\n",
        "- Soft Update Parameter (TAU): Set at 0.001 for gradual updates to the target network, enhancing learning stability.\n",
        "\n",
        "### Exploration vs. Exploitation\n",
        "- Epsilon (ε) Strategy**: Begins at 1.0, decaying to 0.01 with a rate of 0.995 per episode, balancing exploration with exploitation as learning progresses.\n",
        "\n",
        "### Memory and Batch Size\n",
        "- Replay Buffer: Holds 100,000 experiences, with a batch size of 64, promoting diverse and stable learning from a broad range of past actions.\n",
        "- Update Frequency (UPDATE_EVERY): Every 4 steps, the weights from the local network are transferred to the target network, stabilizing future policy predictions.\n",
        "\n"
      ],
      "metadata": {
        "id": "zP7eAjR7TfW9"
      }
    },
    {
      "cell_type": "markdown",
      "source": [
        "Play an episode of the problem using your agent"
      ],
      "metadata": {
        "id": "t69LgeQkSvpf"
      }
    },
    {
      "cell_type": "code",
      "source": [
        "! pip install imageio imageio-ffmpeg"
      ],
      "metadata": {
        "colab": {
          "base_uri": "https://localhost:8080/"
        },
        "id": "qAi9Lp8jqKmT",
        "outputId": "f8e2e235-abf0-4798-860f-9aae49f291c5"
      },
      "execution_count": 25,
      "outputs": [
        {
          "output_type": "stream",
          "name": "stdout",
          "text": [
            "Requirement already satisfied: imageio in /usr/local/lib/python3.10/dist-packages (2.31.6)\n",
            "Requirement already satisfied: imageio-ffmpeg in /usr/local/lib/python3.10/dist-packages (0.4.9)\n",
            "Requirement already satisfied: numpy in /usr/local/lib/python3.10/dist-packages (from imageio) (1.25.2)\n",
            "Requirement already satisfied: pillow<10.1.0,>=8.3.2 in /usr/local/lib/python3.10/dist-packages (from imageio) (9.4.0)\n",
            "Requirement already satisfied: setuptools in /usr/local/lib/python3.10/dist-packages (from imageio-ffmpeg) (67.7.2)\n"
          ]
        }
      ]
    },
    {
      "cell_type": "code",
      "source": [
        "def play_episode(agent, env):\n",
        "    state = env.reset()\n",
        "    total_reward = 0\n",
        "\n",
        "    while True:\n",
        "        action = agent.act(state, eps=0.0)  # Use greedy action selection\n",
        "        result = env.step(action)\n",
        "        next_state, reward, done = result[:3]  # Unpacking only the first three values\n",
        "\n",
        "        total_reward += reward\n",
        "        state = next_state\n",
        "        if done:\n",
        "            break\n",
        "    env.close()\n",
        "    print(f'Total Reward: {total_reward}')\n",
        "\n",
        "# Load the trained model\n",
        "agent.qnetwork_local.load_state_dict(torch.load('/content/checkpoint_lunar_lander.pth'))\n",
        "\n",
        "# Record a video of the episode\n",
        "env = gym.make('LunarLander-v2', render_mode='rgb_array')\n",
        "env = gym.wrappers.RecordVideo(env, './video', episode_trigger=lambda episode_id: True, video_length=0)\n",
        "\n",
        "play_episode(agent, env)\n",
        "\n",
        "# Load and display the recorded video\n",
        "video_path = './video/openaigym.video.0.0.video000000.mp4'"
      ],
      "metadata": {
        "colab": {
          "base_uri": "https://localhost:8080/"
        },
        "id": "k0Xmvx2YpaUE",
        "outputId": "1fc22697-351a-4f58-ac0b-5ee8c34d6a78"
      },
      "execution_count": 35,
      "outputs": [
        {
          "output_type": "stream",
          "name": "stdout",
          "text": [
            "Moviepy - Building video /content/video/rl-video-episode-0.mp4.\n",
            "Moviepy - Writing video /content/video/rl-video-episode-0.mp4\n",
            "\n"
          ]
        },
        {
          "output_type": "stream",
          "name": "stderr",
          "text": [
            "                                                               "
          ]
        },
        {
          "output_type": "stream",
          "name": "stdout",
          "text": [
            "Moviepy - Done !\n",
            "Moviepy - video ready /content/video/rl-video-episode-0.mp4\n",
            "Total Reward: 251.08661419893002\n"
          ]
        },
        {
          "output_type": "stream",
          "name": "stderr",
          "text": [
            "\r"
          ]
        }
      ]
    },
    {
      "cell_type": "markdown",
      "source": [
        " Discussion of the Results in Terms of Success Rate,\n",
        "- Early Episodes: In the early stages of training, the high variance and frequent low scores likely reflect the agent exploring the environment and learning from various unsuccessful attempts. High negative scores could be from crashes or flying off the screen.\n",
        "- Mid Training: By mid-training (around 200-400 episodes), the reduction in variance and negative scores suggest that the agent began learning effective strategies but still hadn't consistently applied optimal actions.\n",
        "- Later Episodes: Towards the later episodes, particularly post-500, the consistent positive scores indicate that the agent has learned to control the lander effectively, likely maximizing the reward signals defined in the environment (landing close to the designated pad, using minimal fuel, etc.).\n",
        "\n"
      ],
      "metadata": {
        "id": "KM5IY3KpSjbS"
      }
    }
  ]
}